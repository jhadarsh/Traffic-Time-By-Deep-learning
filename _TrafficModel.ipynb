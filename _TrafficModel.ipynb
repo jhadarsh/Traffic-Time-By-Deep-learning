{
 "cells": [
  {
   "cell_type": "code",
   "execution_count": 1,
   "id": "584b97e2-e779-4ebc-8727-834ed4cebe34",
   "metadata": {},
   "outputs": [],
   "source": [
    "from ultralytics import YOLO\n",
    "import cv2\n",
    "import json\n",
    "import os"
   ]
  },
  {
   "cell_type": "code",
   "execution_count": 2,
   "id": "78cf6047-6f4e-49c6-96d7-ee5fa4da73cf",
   "metadata": {},
   "outputs": [],
   "source": [
    "# Load the YOLOv8 pre-trained model\n",
    "model = YOLO(\"yolov8n.pt\")  # Use 'yolov8n.pt', 'yolov8s.pt', etc., for different sizes\n"
   ]
  },
  {
   "cell_type": "code",
   "execution_count": 3,
   "id": "d1e3884b-edfa-41b1-b45d-bef30b4ea21a",
   "metadata": {},
   "outputs": [],
   "source": [
    "# Define COCO class IDs for vehicles\n",
    "vehicle_classes = [2, 3, 5, 7]  # Cars, Motorcycles, Buses, Trucks\n",
    "\n",
    "# Initialize storage for predictions\n",
    "predictions_file = \"traffic_predictions.json\""
   ]
  },
  {
   "cell_type": "code",
   "execution_count": 4,
   "id": "b2633bfe-b5ad-4b9a-a954-3151c4100074",
   "metadata": {},
   "outputs": [],
   "source": [
    "# Function to load previous predictions\n",
    "def load_previous_predictions():\n",
    "    if os.path.exists(predictions_file):\n",
    "        with open(predictions_file, \"r\") as file:\n",
    "            return json.load(file)\n",
    "    return {\"prev_vehicle_count\": 0, \"prev_red_time\": 0}\n",
    "\n",
    "# Function to save predictions\n",
    "def save_predictions(predictions):\n",
    "    with open(predictions_file, \"w\") as file:\n",
    "        json.dump(predictions, file)\n"
   ]
  },
  {
   "cell_type": "code",
   "execution_count": 5,
   "id": "166c5128-5a1a-4519-8830-288fbbb688b0",
   "metadata": {},
   "outputs": [],
   "source": [
    "# Function to process an image and make predictions\n",
    "def process_image(image_path, output_path=\"output_image.jpg\"):\n",
    "    # Load previous predictions\n",
    "    prev_data = load_previous_predictions()\n",
    "    prev_vehicle_count = prev_data[\"prev_vehicle_count\"]\n",
    "    prev_red_time = prev_data[\"prev_red_time\"]\n",
    "\n",
    "    # Read the image\n",
    "    image = cv2.imread(image_path)\n",
    "    if image is None:\n",
    "        print(\"Error: Cannot read the image file.\")\n",
    "        return\n",
    "\n",
    "    # Run YOLOv8 inference on the image\n",
    "    results = model(image)\n",
    "\n",
    "    # Extract bounding boxes and class IDs\n",
    "    vehicle_count = 0\n",
    "    for result in results[0].boxes.data.tolist():\n",
    "        x1, y1, x2, y2, conf, class_id = result\n",
    "        class_id = int(class_id)\n",
    "        if class_id in vehicle_classes:  # Check if it's a vehicle\n",
    "            vehicle_count += 1\n",
    "            # Draw bounding box\n",
    "            cv2.rectangle(image, (int(x1), int(y1)), (int(x2), int(y2)), (0, 255, 0), 2)\n",
    "            # Add label\n",
    "            cv2.putText(\n",
    "                image,\n",
    "                model.names[class_id],\n",
    "                (int(x1), int(y1) - 10),\n",
    "                cv2.FONT_HERSHEY_SIMPLEX,\n",
    "                0.5,\n",
    "                (0, 255, 0),\n",
    "                2,\n",
    "            )\n",
    "\n",
    "    # Calculate green and red light durations\n",
    "    green_light_duration = vehicle_count * 2  # Example: 2 seconds per vehicle\n",
    "    red_light_duration = prev_vehicle_count * 1.5  # Example: 1.5 seconds per vehicle\n",
    "\n",
    "    # Display the predictions on the image\n",
    "    cv2.putText(\n",
    "        image,\n",
    "        f\"Vehicle Count: {vehicle_count}\",\n",
    "        (10, 30),\n",
    "        cv2.FONT_HERSHEY_SIMPLEX,\n",
    "        1,\n",
    "        (0, 0, 255),\n",
    "        2,\n",
    "    )\n",
    "    cv2.putText(\n",
    "        image,\n",
    "        f\"Green Light: {green_light_duration}s\",\n",
    "        (10, 60),\n",
    "        cv2.FONT_HERSHEY_SIMPLEX,\n",
    "        1,\n",
    "        (0, 255, 0),\n",
    "        2,\n",
    "    )\n",
    "    cv2.putText(\n",
    "        image,\n",
    "        f\"Red Light: {red_light_duration:.1f}s\",\n",
    "        (10, 90),\n",
    "        cv2.FONT_HERSHEY_SIMPLEX,\n",
    "        1,\n",
    "        (255, 0, 0),\n",
    "        2,\n",
    "    )\n",
    "\n",
    "    # Save the output image\n",
    "    cv2.imwrite(output_path, image)\n",
    "    print(f\"Output saved at: {output_path}\")\n",
    "\n",
    "    # Save the predictions for the next iteration\n",
    "    predictions = {\n",
    "        \"prev_vehicle_count\": vehicle_count,\n",
    "        \"prev_red_time\": red_light_duration,\n",
    "    }\n",
    "    save_predictions(predictions)\n",
    "\n",
    "    # Display the image (optional)\n",
    "    cv2.imshow(\"Vehicle Detection\", image)\n",
    "    cv2.waitKey(0)\n",
    "    cv2.destroyAllWindows()"
   ]
  },
  {
   "cell_type": "code",
   "execution_count": 6,
   "id": "39903c2c-c5df-4f49-9594-717c1af571cb",
   "metadata": {},
   "outputs": [
    {
     "name": "stdout",
     "output_type": "stream",
     "text": [
      "\n",
      "0: 384x640 16 cars, 2 buss, 1 truck, 173.5ms\n",
      "Speed: 10.8ms preprocess, 173.5ms inference, 13.2ms postprocess per image at shape (1, 3, 384, 640)\n",
      "Output saved at: output_with_predictions.jpg\n"
     ]
    }
   ],
   "source": [
    "# Run the function on an image\n",
    "process_image(\"traffic1.jpg\", \"output_with_predictions.jpg\")"
   ]
  },
  {
   "cell_type": "code",
   "execution_count": null,
   "id": "450724f9-26eb-4784-b235-994f331201a7",
   "metadata": {},
   "outputs": [],
   "source": []
  }
 ],
 "metadata": {
  "kernelspec": {
   "display_name": "Python 3 (ipykernel)",
   "language": "python",
   "name": "python3"
  },
  "language_info": {
   "codemirror_mode": {
    "name": "ipython",
    "version": 3
   },
   "file_extension": ".py",
   "mimetype": "text/x-python",
   "name": "python",
   "nbconvert_exporter": "python",
   "pygments_lexer": "ipython3",
   "version": "3.10.11"
  }
 },
 "nbformat": 4,
 "nbformat_minor": 5
}
