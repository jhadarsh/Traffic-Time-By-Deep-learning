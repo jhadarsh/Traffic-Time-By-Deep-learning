{
 "cells": [
  {
   "cell_type": "code",
   "execution_count": 1,
   "id": "2077e4b3-09a0-435e-badc-44213a1ba9ae",
   "metadata": {},
   "outputs": [
    {
     "name": "stdout",
     "output_type": "stream",
     "text": [
      "✅ Traffic data saved to traffic_data.json successfully!\n"
     ]
    }
   ],
   "source": [
    "import json\n",
    "\n",
    "# Define the traffic data\n",
    "traffic_data = {\n",
    "    \"Connaught Place\": {\n",
    "        \"AIIMS\": {\n",
    "            \"distance\": 8.5,\n",
    "            \"num_signals\": 5,\n",
    "            \"vehicle_count\": 200,\n",
    "            \"red_light_delay\": 180,\n",
    "            \"current_pollution\": 170\n",
    "        },\n",
    "        \"Karol Bagh\": {\n",
    "            \"distance\": 6.0,\n",
    "            \"num_signals\": 4,\n",
    "            \"vehicle_count\": 180,\n",
    "            \"red_light_delay\": 150,\n",
    "            \"current_pollution\": 160\n",
    "        },\n",
    "        \"Dwarka\": {\n",
    "            \"distance\": 20.0,\n",
    "            \"num_signals\": 7,\n",
    "            \"vehicle_count\": 220,\n",
    "            \"red_light_delay\": 200,\n",
    "            \"current_pollution\": 180\n",
    "        }\n",
    "    },\n",
    "    \"AIIMS\": {\n",
    "        \"Connaught Place\": {\n",
    "            \"distance\": 8.5,\n",
    "            \"num_signals\": 5,\n",
    "            \"vehicle_count\": 210,\n",
    "            \"red_light_delay\": 170,\n",
    "            \"current_pollution\": 165\n",
    "        },\n",
    "        \"Karol Bagh\": {\n",
    "            \"distance\": 7.0,\n",
    "            \"num_signals\": 3,\n",
    "            \"vehicle_count\": 190,\n",
    "            \"red_light_delay\": 160,\n",
    "            \"current_pollution\": 155\n",
    "        },\n",
    "        \"Dwarka\": {\n",
    "            \"distance\": 18.0,\n",
    "            \"num_signals\": 6,\n",
    "            \"vehicle_count\": 230,\n",
    "            \"red_light_delay\": 210,\n",
    "            \"current_pollution\": 175\n",
    "        }\n",
    "    }\n",
    "}\n",
    "\n",
    "# Save data to traffic_data.json\n",
    "with open(\"traffic_data.json\", \"w\") as json_file:\n",
    "    json.dump(traffic_data, json_file, indent=4)\n",
    "\n",
    "print(\"✅ Traffic data saved to traffic_data.json successfully!\")\n"
   ]
  },
  {
   "cell_type": "code",
   "execution_count": null,
   "id": "f53948c9-3f37-43bc-a8cd-33bb45ee3cf5",
   "metadata": {},
   "outputs": [],
   "source": []
  }
 ],
 "metadata": {
  "kernelspec": {
   "display_name": "Python 3 (ipykernel)",
   "language": "python",
   "name": "python3"
  },
  "language_info": {
   "codemirror_mode": {
    "name": "ipython",
    "version": 3
   },
   "file_extension": ".py",
   "mimetype": "text/x-python",
   "name": "python",
   "nbconvert_exporter": "python",
   "pygments_lexer": "ipython3",
   "version": "3.10.11"
  }
 },
 "nbformat": 4,
 "nbformat_minor": 5
}
